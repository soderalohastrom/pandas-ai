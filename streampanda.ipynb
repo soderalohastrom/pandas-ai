{
 "cells": [
  {
   "cell_type": "code",
   "execution_count": 20,
   "metadata": {},
   "outputs": [
    {
     "name": "stdout",
     "output_type": "stream",
     "text": [
      "\u001b[33mWARNING: Skipping /opt/homebrew/lib/python3.11/site-packages/torch-1.13.0a0+git49444c3-py3.11.egg-info due to invalid metadata entry 'name'\u001b[0m\u001b[33m\n",
      "\u001b[0mRequirement already satisfied: pandasai in /opt/homebrew/lib/python3.11/site-packages (0.5.0)\n",
      "Requirement already satisfied: streamlit in /opt/homebrew/lib/python3.11/site-packages (1.23.1)\n",
      "Requirement already satisfied: astor<0.9.0,>=0.8.1 in /opt/homebrew/lib/python3.11/site-packages (from pandasai) (0.8.1)\n",
      "Requirement already satisfied: ipython<9.0.0,>=8.13.1 in /Users/soderstrom/Library/Python/3.11/lib/python/site-packages (from pandasai) (8.13.1)\n",
      "Requirement already satisfied: matplotlib<4.0.0,>=3.7.1 in /opt/homebrew/lib/python3.11/site-packages (from pandasai) (3.7.1)\n",
      "Requirement already satisfied: openai<0.28.0,>=0.27.5 in /opt/homebrew/lib/python3.11/site-packages (from pandasai) (0.27.8)\n",
      "Requirement already satisfied: pandas==1.5.3 in /opt/homebrew/lib/python3.11/site-packages (from pandasai) (1.5.3)\n",
      "Requirement already satisfied: python-dotenv<2.0.0,>=1.0.0 in /opt/homebrew/lib/python3.11/site-packages (from pandasai) (1.0.0)\n",
      "Requirement already satisfied: python-dateutil>=2.8.1 in /opt/homebrew/lib/python3.11/site-packages (from pandas==1.5.3->pandasai) (2.8.2)\n",
      "Requirement already satisfied: pytz>=2020.1 in /opt/homebrew/lib/python3.11/site-packages (from pandas==1.5.3->pandasai) (2023.3)\n",
      "Requirement already satisfied: numpy>=1.21.0 in /opt/homebrew/lib/python3.11/site-packages (from pandas==1.5.3->pandasai) (1.24.2)\n",
      "Requirement already satisfied: altair<6,>=4.0 in /opt/homebrew/lib/python3.11/site-packages (from streamlit) (5.0.1)\n",
      "Requirement already satisfied: blinker<2,>=1.0.0 in /opt/homebrew/lib/python3.11/site-packages (from streamlit) (1.6.2)\n",
      "Requirement already satisfied: cachetools<6,>=4.0 in /opt/homebrew/lib/python3.11/site-packages (from streamlit) (5.3.0)\n",
      "Requirement already satisfied: click<9,>=7.0 in /opt/homebrew/lib/python3.11/site-packages (from streamlit) (8.1.3)\n",
      "Requirement already satisfied: importlib-metadata<7,>=1.4 in /opt/homebrew/lib/python3.11/site-packages (from streamlit) (6.6.0)\n",
      "Requirement already satisfied: packaging<24,>=14.1 in /opt/homebrew/lib/python3.11/site-packages (from streamlit) (23.1)\n",
      "Requirement already satisfied: pillow<10,>=6.2.0 in /opt/homebrew/lib/python3.11/site-packages (from streamlit) (9.5.0)\n",
      "Requirement already satisfied: protobuf<5,>=3.20 in /opt/homebrew/lib/python3.11/site-packages (from streamlit) (4.21.12)\n",
      "Requirement already satisfied: pyarrow>=4.0 in /opt/homebrew/lib/python3.11/site-packages (from streamlit) (12.0.0)\n",
      "Requirement already satisfied: pympler<2,>=0.9 in /opt/homebrew/lib/python3.11/site-packages (from streamlit) (1.0.1)\n",
      "Requirement already satisfied: requests<3,>=2.4 in /opt/homebrew/lib/python3.11/site-packages (from streamlit) (2.28.2)\n",
      "Requirement already satisfied: rich<14,>=10.11.0 in /opt/homebrew/lib/python3.11/site-packages (from streamlit) (13.4.1)\n",
      "Requirement already satisfied: tenacity<9,>=8.0.0 in /opt/homebrew/lib/python3.11/site-packages (from streamlit) (8.2.2)\n",
      "Requirement already satisfied: toml<2 in /opt/homebrew/lib/python3.11/site-packages (from streamlit) (0.10.2)\n",
      "Requirement already satisfied: typing-extensions<5,>=4.0.1 in /opt/homebrew/lib/python3.11/site-packages (from streamlit) (4.4.0)\n",
      "Requirement already satisfied: tzlocal<5,>=1.1 in /opt/homebrew/lib/python3.11/site-packages (from streamlit) (4.3)\n",
      "Requirement already satisfied: validators<1,>=0.2 in /opt/homebrew/lib/python3.11/site-packages (from streamlit) (0.20.0)\n",
      "Requirement already satisfied: gitpython!=3.1.19,<4,>=3 in /opt/homebrew/lib/python3.11/site-packages (from streamlit) (3.1.31)\n",
      "Requirement already satisfied: pydeck<1,>=0.1.dev5 in /opt/homebrew/lib/python3.11/site-packages (from streamlit) (0.8.1b0)\n",
      "Requirement already satisfied: tornado<7,>=6.0.3 in /Users/soderstrom/Library/Python/3.11/lib/python/site-packages (from streamlit) (6.3.1)\n",
      "Requirement already satisfied: jinja2 in /opt/homebrew/lib/python3.11/site-packages (from altair<6,>=4.0->streamlit) (3.1.2)\n",
      "Requirement already satisfied: jsonschema>=3.0 in /opt/homebrew/lib/python3.11/site-packages (from altair<6,>=4.0->streamlit) (4.17.3)\n",
      "Requirement already satisfied: toolz in /opt/homebrew/lib/python3.11/site-packages (from altair<6,>=4.0->streamlit) (0.12.0)\n",
      "Requirement already satisfied: gitdb<5,>=4.0.1 in /opt/homebrew/lib/python3.11/site-packages (from gitpython!=3.1.19,<4,>=3->streamlit) (4.0.10)\n",
      "Requirement already satisfied: zipp>=0.5 in /opt/homebrew/lib/python3.11/site-packages (from importlib-metadata<7,>=1.4->streamlit) (3.15.0)\n",
      "Requirement already satisfied: backcall in /Users/soderstrom/Library/Python/3.11/lib/python/site-packages (from ipython<9.0.0,>=8.13.1->pandasai) (0.2.0)\n",
      "Requirement already satisfied: decorator in /Users/soderstrom/Library/Python/3.11/lib/python/site-packages (from ipython<9.0.0,>=8.13.1->pandasai) (5.1.1)\n",
      "Requirement already satisfied: jedi>=0.16 in /Users/soderstrom/Library/Python/3.11/lib/python/site-packages (from ipython<9.0.0,>=8.13.1->pandasai) (0.18.2)\n",
      "Requirement already satisfied: matplotlib-inline in /Users/soderstrom/Library/Python/3.11/lib/python/site-packages (from ipython<9.0.0,>=8.13.1->pandasai) (0.1.6)\n",
      "Requirement already satisfied: pickleshare in /Users/soderstrom/Library/Python/3.11/lib/python/site-packages (from ipython<9.0.0,>=8.13.1->pandasai) (0.7.5)\n",
      "Requirement already satisfied: prompt-toolkit!=3.0.37,<3.1.0,>=3.0.30 in /Users/soderstrom/Library/Python/3.11/lib/python/site-packages (from ipython<9.0.0,>=8.13.1->pandasai) (3.0.38)\n",
      "Requirement already satisfied: pygments>=2.4.0 in /Users/soderstrom/Library/Python/3.11/lib/python/site-packages (from ipython<9.0.0,>=8.13.1->pandasai) (2.15.1)\n",
      "Requirement already satisfied: stack-data in /Users/soderstrom/Library/Python/3.11/lib/python/site-packages (from ipython<9.0.0,>=8.13.1->pandasai) (0.6.2)\n",
      "Requirement already satisfied: traitlets>=5 in /Users/soderstrom/Library/Python/3.11/lib/python/site-packages (from ipython<9.0.0,>=8.13.1->pandasai) (5.9.0)\n",
      "Requirement already satisfied: pexpect>4.3 in /Users/soderstrom/Library/Python/3.11/lib/python/site-packages (from ipython<9.0.0,>=8.13.1->pandasai) (4.8.0)\n",
      "Requirement already satisfied: appnope in /Users/soderstrom/Library/Python/3.11/lib/python/site-packages (from ipython<9.0.0,>=8.13.1->pandasai) (0.1.3)\n",
      "Requirement already satisfied: contourpy>=1.0.1 in /opt/homebrew/lib/python3.11/site-packages (from matplotlib<4.0.0,>=3.7.1->pandasai) (1.0.7)\n",
      "Requirement already satisfied: cycler>=0.10 in /opt/homebrew/lib/python3.11/site-packages (from matplotlib<4.0.0,>=3.7.1->pandasai) (0.11.0)\n",
      "Requirement already satisfied: fonttools>=4.22.0 in /opt/homebrew/lib/python3.11/site-packages (from matplotlib<4.0.0,>=3.7.1->pandasai) (4.39.4)\n",
      "Requirement already satisfied: kiwisolver>=1.0.1 in /opt/homebrew/lib/python3.11/site-packages (from matplotlib<4.0.0,>=3.7.1->pandasai) (1.4.4)\n",
      "Requirement already satisfied: pyparsing>=2.3.1 in /opt/homebrew/lib/python3.11/site-packages (from matplotlib<4.0.0,>=3.7.1->pandasai) (3.0.9)\n",
      "Requirement already satisfied: tqdm in /opt/homebrew/lib/python3.11/site-packages (from openai<0.28.0,>=0.27.5->pandasai) (4.65.0)\n",
      "Requirement already satisfied: aiohttp in /opt/homebrew/lib/python3.11/site-packages (from openai<0.28.0,>=0.27.5->pandasai) (3.8.4)\n",
      "Requirement already satisfied: six>=1.5 in /opt/homebrew/lib/python3.11/site-packages (from python-dateutil>=2.8.1->pandas==1.5.3->pandasai) (1.16.0)\n",
      "Requirement already satisfied: charset-normalizer<4,>=2 in /opt/homebrew/lib/python3.11/site-packages (from requests<3,>=2.4->streamlit) (3.1.0)\n",
      "Requirement already satisfied: idna<4,>=2.5 in /opt/homebrew/lib/python3.11/site-packages (from requests<3,>=2.4->streamlit) (3.4)\n",
      "Requirement already satisfied: urllib3<1.27,>=1.21.1 in /opt/homebrew/lib/python3.11/site-packages (from requests<3,>=2.4->streamlit) (1.26.15)\n",
      "Requirement already satisfied: certifi>=2017.4.17 in /opt/homebrew/lib/python3.11/site-packages (from requests<3,>=2.4->streamlit) (2022.12.7)\n",
      "Requirement already satisfied: markdown-it-py<3.0.0,>=2.2.0 in /opt/homebrew/lib/python3.11/site-packages (from rich<14,>=10.11.0->streamlit) (2.2.0)\n",
      "Requirement already satisfied: pytz-deprecation-shim in /opt/homebrew/lib/python3.11/site-packages (from tzlocal<5,>=1.1->streamlit) (0.1.0.post0)\n",
      "Requirement already satisfied: smmap<6,>=3.0.1 in /opt/homebrew/lib/python3.11/site-packages (from gitdb<5,>=4.0.1->gitpython!=3.1.19,<4,>=3->streamlit) (5.0.0)\n",
      "Requirement already satisfied: parso<0.9.0,>=0.8.0 in /Users/soderstrom/Library/Python/3.11/lib/python/site-packages (from jedi>=0.16->ipython<9.0.0,>=8.13.1->pandasai) (0.8.3)\n",
      "Requirement already satisfied: MarkupSafe>=2.0 in /opt/homebrew/lib/python3.11/site-packages (from jinja2->altair<6,>=4.0->streamlit) (2.1.2)\n",
      "Requirement already satisfied: attrs>=17.4.0 in /opt/homebrew/lib/python3.11/site-packages (from jsonschema>=3.0->altair<6,>=4.0->streamlit) (22.2.0)\n",
      "Requirement already satisfied: pyrsistent!=0.17.0,!=0.17.1,!=0.17.2,>=0.14.0 in /opt/homebrew/lib/python3.11/site-packages (from jsonschema>=3.0->altair<6,>=4.0->streamlit) (0.19.3)\n",
      "Requirement already satisfied: mdurl~=0.1 in /opt/homebrew/lib/python3.11/site-packages (from markdown-it-py<3.0.0,>=2.2.0->rich<14,>=10.11.0->streamlit) (0.1.2)\n",
      "Requirement already satisfied: ptyprocess>=0.5 in /Users/soderstrom/Library/Python/3.11/lib/python/site-packages (from pexpect>4.3->ipython<9.0.0,>=8.13.1->pandasai) (0.7.0)\n",
      "Requirement already satisfied: wcwidth in /Users/soderstrom/Library/Python/3.11/lib/python/site-packages (from prompt-toolkit!=3.0.37,<3.1.0,>=3.0.30->ipython<9.0.0,>=8.13.1->pandasai) (0.2.6)\n",
      "Requirement already satisfied: multidict<7.0,>=4.5 in /opt/homebrew/lib/python3.11/site-packages (from aiohttp->openai<0.28.0,>=0.27.5->pandasai) (6.0.4)\n",
      "Requirement already satisfied: async-timeout<5.0,>=4.0.0a3 in /opt/homebrew/lib/python3.11/site-packages (from aiohttp->openai<0.28.0,>=0.27.5->pandasai) (4.0.2)\n",
      "Requirement already satisfied: yarl<2.0,>=1.0 in /opt/homebrew/lib/python3.11/site-packages (from aiohttp->openai<0.28.0,>=0.27.5->pandasai) (1.8.2)\n",
      "Requirement already satisfied: frozenlist>=1.1.1 in /opt/homebrew/lib/python3.11/site-packages (from aiohttp->openai<0.28.0,>=0.27.5->pandasai) (1.3.3)\n",
      "Requirement already satisfied: aiosignal>=1.1.2 in /opt/homebrew/lib/python3.11/site-packages (from aiohttp->openai<0.28.0,>=0.27.5->pandasai) (1.3.1)\n",
      "Requirement already satisfied: tzdata in /opt/homebrew/lib/python3.11/site-packages (from pytz-deprecation-shim->tzlocal<5,>=1.1->streamlit) (2023.3)\n",
      "Requirement already satisfied: executing>=1.2.0 in /Users/soderstrom/Library/Python/3.11/lib/python/site-packages (from stack-data->ipython<9.0.0,>=8.13.1->pandasai) (1.2.0)\n",
      "Requirement already satisfied: asttokens>=2.1.0 in /Users/soderstrom/Library/Python/3.11/lib/python/site-packages (from stack-data->ipython<9.0.0,>=8.13.1->pandasai) (2.2.1)\n",
      "Requirement already satisfied: pure-eval in /Users/soderstrom/Library/Python/3.11/lib/python/site-packages (from stack-data->ipython<9.0.0,>=8.13.1->pandasai) (0.2.2)\n",
      "\u001b[33mWARNING: Skipping /opt/homebrew/lib/python3.11/site-packages/torch-1.13.0a0+git49444c3-py3.11.egg-info due to invalid metadata entry 'name'\u001b[0m\u001b[33m\n",
      "\u001b[0mNote: you may need to restart the kernel to use updated packages.\n"
     ]
    }
   ],
   "source": [
    "pip install pandasai streamlit"
   ]
  },
  {
   "cell_type": "code",
   "execution_count": 21,
   "metadata": {},
   "outputs": [
    {
     "data": {
      "text/plain": [
       "DeltaGenerator()"
      ]
     },
     "execution_count": 21,
     "metadata": {},
     "output_type": "execute_result"
    }
   ],
   "source": [
    "import streamlit as st \n",
    "import pandas as pd\n",
    "\n",
    "st.title(\"Prompt-driven data analysis with PandasAI\")"
   ]
  },
  {
   "cell_type": "code",
   "execution_count": 22,
   "metadata": {},
   "outputs": [],
   "source": [
    "uploaded_file = st.file_uploader(\"Upload a CSV file for analysis\", type=['csv'])"
   ]
  },
  {
   "cell_type": "code",
   "execution_count": 23,
   "metadata": {},
   "outputs": [],
   "source": [
    "if uploaded_file is not None:\n",
    "    df = pd.read_csv(uploaded_file)\n",
    "    st.write(df.head(3))"
   ]
  },
  {
   "cell_type": "code",
   "execution_count": 24,
   "metadata": {},
   "outputs": [],
   "source": [
    "if uploaded_file is not None:\n",
    "    df = pd.read_csv(uploaded_file)\n",
    "    st.write(df.head(3))\n",
    "\n",
    "    # new code below...\n",
    "    prompt = st.text_area(\"Enter your prompt:\")\n",
    "\n",
    "    # Generate output\n",
    "    if st.button(\"Generate\"):\n",
    "        if prompt:\n",
    "            st.write(\"Generating response...\")\n",
    "        else:\n",
    "            st.warning(\"Please enter a prompt.\")"
   ]
  },
  {
   "cell_type": "code",
   "execution_count": 25,
   "metadata": {},
   "outputs": [],
   "source": [
    "from pandasai import PandasAI\n",
    "from pandasai.llm.openai import OpenAI\n",
    "\n",
    "# create an LLM by instantiating OpenAI object, and passing API token\n",
    "llm = OpenAI(api_token=\"sk-YOUR_KEY_HERE\")\n",
    "\n",
    "# create PandasAI object, passing the LLM\n",
    "pandas_ai = PandasAI(llm)"
   ]
  },
  {
   "cell_type": "code",
   "execution_count": 26,
   "metadata": {},
   "outputs": [],
   "source": [
    "if uploaded_file is not None:\n",
    "    df = pd.read_csv(uploaded_file)\n",
    "    st.write(df.head(3))\n",
    "    prompt = st.text_area(\"Enter your prompt:\")\n",
    "\n",
    "    # Generate output\n",
    "    if st.button(\"Generate\"):\n",
    "        if prompt:\n",
    "            # call pandas_ai.run(), passing dataframe and prompt\n",
    "            with st.spinner(\"Generating response...\"):\n",
    "                st.write(pandas_ai.run(df, prompt))\n",
    "        else:\n",
    "            st.warning(\"Please enter a prompt.\")"
   ]
  },
  {
   "cell_type": "code",
   "execution_count": null,
   "metadata": {},
   "outputs": [],
   "source": []
  }
 ],
 "metadata": {
  "kernelspec": {
   "display_name": "Python 3",
   "language": "python",
   "name": "python3"
  },
  "language_info": {
   "codemirror_mode": {
    "name": "ipython",
    "version": 3
   },
   "file_extension": ".py",
   "mimetype": "text/x-python",
   "name": "python",
   "nbconvert_exporter": "python",
   "pygments_lexer": "ipython3",
   "version": "3.11.3"
  },
  "orig_nbformat": 4
 },
 "nbformat": 4,
 "nbformat_minor": 2
}
